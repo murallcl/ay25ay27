{
 "cells": [
  {
   "cell_type": "markdown",
   "id": "9ebbb03d-875e-4034-bf62-3d2471448ba9",
   "metadata": {},
   "source": [
    "# 1. Read sample names from tree"
   ]
  },
  {
   "cell_type": "code",
   "execution_count": 1,
   "id": "811134d1-f1b1-490d-8c78-5a3615c172f5",
   "metadata": {},
   "outputs": [
    {
     "data": {
      "text/plain": [
       "Tree node 'NODE_0000000' (0x7f88204c025)"
      ]
     },
     "execution_count": 1,
     "metadata": {},
     "output_type": "execute_result"
    }
   ],
   "source": [
    "from ete3 import Tree\n",
    "\n",
    "tree = Tree('tree.nwk', format=1)\n",
    "tree"
   ]
  },
  {
   "cell_type": "code",
   "execution_count": 2,
   "id": "4b8de789-887f-4984-ae08-8518e329a5df",
   "metadata": {},
   "outputs": [
    {
     "data": {
      "text/plain": [
       "['Wuhan/Hu-1/2019',\n",
       " 'SouthKorea/KCDC2061/2020',\n",
       " 'Panama/335931/2020',\n",
       " 'Guatemala/GUA-LNS-1056/2021',\n",
       " 'Panama/GMI-PA419159/2020']"
      ]
     },
     "execution_count": 2,
     "metadata": {},
     "output_type": "execute_result"
    }
   ],
   "source": [
    "tree.get_leaf_names()[0:5]"
   ]
  },
  {
   "cell_type": "code",
   "execution_count": 3,
   "id": "53b08732-4e8b-4de8-b6b8-6fb0918c86e1",
   "metadata": {},
   "outputs": [],
   "source": [
    "with open('input/samples-from-tree.txt', 'w') as oh:\n",
    "    oh.write('\\n'.join(tree.get_leaf_names()))"
   ]
  },
  {
   "cell_type": "markdown",
   "id": "eaf837ee-36de-4839-8ce4-51b1a4757fea",
   "metadata": {},
   "source": [
    "# 2. Generate input file for gdi from samples"
   ]
  },
  {
   "cell_type": "code",
   "execution_count": 4,
   "id": "dd05514e-1f3f-4713-a2b6-3722e9e56c74",
   "metadata": {},
   "outputs": [
    {
     "name": "stdout",
     "output_type": "stream",
     "text": [
      "Input file for gisaid samples: input/gdi-input-gisaid.tsv, took 23.85 minutes\n"
     ]
    }
   ],
   "source": [
    "import time\n",
    "\n",
    "start = time.time()\n",
    "!gdi input-split-file --subsample-file input/samples-from-tree.txt --output-samples-file input/gdi-input-gisaid.tsv --output-dir input/gdi-gisaid-fasta --absolute input/gisaid_sequences.fasta\n",
    "end = time.time()\n",
    "print(f'Input file for gisaid samples: input/gdi-input-gisaid.tsv, took {(end - start)/60:0.2f} minutes')"
   ]
  }
 ],
 "metadata": {
  "kernelspec": {
   "display_name": "Python 3 (ipykernel)",
   "language": "python",
   "name": "python3"
  },
  "language_info": {
   "codemirror_mode": {
    "name": "ipython",
    "version": 3
   },
   "file_extension": ".py",
   "mimetype": "text/x-python",
   "name": "python",
   "nbconvert_exporter": "python",
   "pygments_lexer": "ipython3",
   "version": "3.8.12"
  }
 },
 "nbformat": 4,
 "nbformat_minor": 5
}
